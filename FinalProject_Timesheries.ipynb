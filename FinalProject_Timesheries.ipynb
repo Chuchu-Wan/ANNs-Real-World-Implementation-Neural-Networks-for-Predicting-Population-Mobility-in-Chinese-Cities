{
  "nbformat": 4,
  "nbformat_minor": 0,
  "metadata": {
    "colab": {
      "provenance": [],
      "authorship_tag": "ABX9TyNTTBH1IwpppHjJGbvZHpix",
      "include_colab_link": true
    },
    "kernelspec": {
      "name": "python3",
      "display_name": "Python 3"
    },
    "language_info": {
      "name": "python"
    }
  },
  "cells": [
    {
      "cell_type": "markdown",
      "metadata": {
        "id": "view-in-github",
        "colab_type": "text"
      },
      "source": [
        "<a href=\"https://colab.research.google.com/github/Chuchu-Wan/ANNs-Real-World-Implementation-Neural-Networks-for-Predicting-Population-Mobility-in-Chinese-Cities/blob/main/FinalProject_Timesheries.ipynb\" target=\"_parent\"><img src=\"https://colab.research.google.com/assets/colab-badge.svg\" alt=\"Open In Colab\"/></a>"
      ]
    },
    {
      "cell_type": "code",
      "execution_count": null,
      "metadata": {
        "colab": {
          "base_uri": "https://localhost:8080/"
        },
        "id": "knffxdEHHiD_",
        "outputId": "07f3f3d6-a32e-4dc6-a105-30d7880d9bac"
      },
      "outputs": [
        {
          "output_type": "stream",
          "name": "stdout",
          "text": [
            "Mounted at /content/drive\n"
          ]
        }
      ],
      "source": [
        "from google.colab import drive\n",
        "\n",
        "drive.mount('/content/drive')"
      ]
    },
    {
      "cell_type": "code",
      "source": [
        "import pandas as pd\n",
        "import numpy as np\n",
        "from sklearn.impute import KNNImputer\n",
        "from sklearn.preprocessing import MinMaxScaler\n",
        "from tensorflow.keras.models import Sequential\n",
        "from tensorflow.keras.layers import LSTM, Dense\n",
        "from tensorflow.keras.callbacks import EarlyStopping\n",
        "from sklearn.model_selection import train_test_split\n",
        "\n",
        "from tensorflow.keras.models import Sequential\n",
        "from tensorflow.keras.layers import LSTM, Dense, Dropout\n",
        "from tensorflow.keras.optimizers import Adam\n",
        "\n",
        "file_path = '/content/drive/My Drive/NNs/maindata_clean.dta'\n",
        "\n",
        "data = pd.read_stata(file_path)\n",
        "print(\"Data Overview:\")\n",
        "print(data.head())"
      ],
      "metadata": {
        "colab": {
          "base_uri": "https://localhost:8080/"
        },
        "collapsed": true,
        "id": "pEbMkIXbKWfG",
        "outputId": "a3bf3655-467f-470c-b0a9-52a815112e0c"
      },
      "execution_count": null,
      "outputs": [
        {
          "output_type": "stream",
          "name": "stdout",
          "text": [
            "Data Overview:\n",
            "     year    Cityid  地区     地区生产总值万元   第一产业增加值万元    第二产业增加值万元     第三产业增加值万元  \\\n",
            "0  2009.0  110000.0  北京  121530000.0  1178841.00  28559550.00  9.179161e+07   \n",
            "1  2010.0  110000.0  北京  141135800.0  1241995.04  33886705.58  1.060071e+08   \n",
            "2  2011.0  110000.0  北京  162519300.0  1365162.12  37525706.37  1.236284e+08   \n",
            "3  2012.0  110000.0  北京  178794000.0  1501869.60  40586238.00  1.367059e+08   \n",
            "4  2013.0  110000.0  北京  195005600.0  1618546.48  43525249.92  1.498618e+08   \n",
            "\n",
            "   第一产业增加值占GDP比重  第二产业增加值占GDP比重  第三产业增加值占GDP比重  ...  Population_density  \\\n",
            "0           0.97          23.50          75.53  ...              759.14   \n",
            "1           0.88          24.01          75.11  ...              766.44   \n",
            "2           0.84          23.09          76.07  ...              778.70   \n",
            "3           0.84          22.70          76.46  ...              790.60   \n",
            "4           0.83          22.32          76.85  ...              802.11   \n",
            "\n",
            "   Popjuniorcollege  Popcollege  Human_capital_index  GDP_10000yuan  PM25  \\\n",
            "0               NaN    577154.0           463.268664    121530000.0   NaN   \n",
            "1               NaN    577828.0           459.395770    141135800.0   NaN   \n",
            "2               NaN    578633.0           452.799906    162519300.0   NaN   \n",
            "3               NaN    581844.0           448.434682    178794000.0   NaN   \n",
            "4               NaN    589254.0           447.659348    195005600.0   NaN   \n",
            "\n",
            "   ResidentsPop  RegisteredPop  Population_mobility_rate  Housing_price  \n",
            "0           NaN            NaN                       NaN   14172.833333  \n",
            "1           NaN            NaN                       NaN   23327.250000  \n",
            "2           NaN            NaN                       NaN   26076.750000  \n",
            "3           NaN            NaN                       NaN   26808.583333  \n",
            "4           NaN         13.163                       NaN   37402.666667  \n",
            "\n",
            "[5 rows x 199 columns]\n"
          ]
        }
      ]
    },
    {
      "cell_type": "code",
      "source": [
        "from sklearn.impute import KNNImputer\n",
        "\n",
        "data.drop(columns=['地区', 'Cityid'], inplace=True, errors='ignore')\n",
        "\n",
        "target = 'Population_mobility_rate'\n",
        "features = [col for col in data.columns if col != target]\n",
        "\n",
        "X = data[features]\n",
        "y = data[target]\n",
        "\n",
        "X = X.apply(pd.to_numeric, errors='coerce')\n",
        "\n",
        "print(f\"X shape: {X.shape}, features count: {len(features)}\")\n",
        "\n",
        "if X.shape[1] != len(features):\n",
        "    print(\"列数不匹配，调整 features 列表！\")\n",
        "    features = X.columns.tolist()\n",
        "\n",
        "imputer = KNNImputer(n_neighbors=5)\n",
        "X_filled = imputer.fit_transform(X)\n",
        "\n",
        "if X_filled.shape[1] != len(features):\n",
        "    print(f\"填补后列数与 features 不符：{X_filled.shape[1]} vs {len(features)}\")\n",
        "    features = [f\"Feature_{i}\" for i in range(X_filled.shape[1])]\n",
        "\n",
        "X_filled_df = pd.DataFrame(X_filled, columns=features)\n",
        "\n",
        "print(\"填补后的数据（前5行）:\")\n",
        "print(X_filled_df.head())\n",
        "\n",
        "if y.isnull().sum() > 0:\n",
        "    y_filled = y.fillna(y.mean())\n",
        "else:\n",
        "    y_filled = y"
      ],
      "metadata": {
        "colab": {
          "base_uri": "https://localhost:8080/"
        },
        "id": "micFsIw4M1Nt",
        "outputId": "fcf507d6-0e5b-4dd5-af34-4d91c3cf6d13"
      },
      "execution_count": null,
      "outputs": [
        {
          "output_type": "stream",
          "name": "stdout",
          "text": [
            "X shape: (3372, 196), features count: 196\n",
            "填补后列数与 features 不符：179 vs 196\n",
            "填补后的数据（前5行）:\n",
            "   Feature_0    Feature_1   Feature_2    Feature_3     Feature_4  Feature_5  \\\n",
            "0     2009.0  121530000.0  1178841.00  28559550.00  9.179161e+07       0.97   \n",
            "1     2010.0  141135800.0  1241995.04  33886705.58  1.060071e+08       0.88   \n",
            "2     2011.0  162519300.0  1365162.12  37525706.37  1.236284e+08       0.84   \n",
            "3     2012.0  178794000.0  1501869.60  40586238.00  1.367059e+08       0.84   \n",
            "4     2013.0  195005600.0  1618546.48  43525249.92  1.498618e+08       0.83   \n",
            "\n",
            "   Feature_6  Feature_7  Feature_8  Feature_9  ...  Feature_169  Feature_170  \\\n",
            "0      23.50      75.53    70452.0    1245.83  ...      38765.6       759.14   \n",
            "1      24.01      75.11    75943.0    1257.80  ...      51048.4       766.44   \n",
            "2      23.09      76.07    81658.0    1277.90  ...      52920.0       778.70   \n",
            "3      22.70      76.46    87475.0    1297.50  ...      52920.0       790.60   \n",
            "4      22.32      76.85    93213.0    1316.30  ...      50848.6       802.11   \n",
            "\n",
            "   Feature_171  Feature_172  Feature_173  Feature_174  Feature_175  \\\n",
            "0     619696.0     577154.0   463.268664  121530000.0         42.4   \n",
            "1     766806.4     577828.0   459.395770  141135800.0         29.8   \n",
            "2     695550.6     578633.0   452.799906  162519300.0         28.4   \n",
            "3     743512.4     581844.0   448.434682  178794000.0         28.4   \n",
            "4     808744.8     589254.0   447.659348  195005600.0         26.2   \n",
            "\n",
            "   Feature_176  Feature_177   Feature_178  \n",
            "0      0.69566     0.641915  14172.833333  \n",
            "1      0.82976     0.641915  23327.250000  \n",
            "2      0.70160     0.641915  26076.750000  \n",
            "3      0.72656     0.641915  26808.583333  \n",
            "4      0.70604    13.163000  37402.666667  \n",
            "\n",
            "[5 rows x 179 columns]\n"
          ]
        }
      ]
    },
    {
      "cell_type": "code",
      "source": [
        "missing_columns = set(features) - set(X_filled_df.columns)\n",
        "print(\"被删除的特征列:\", missing_columns)"
      ],
      "metadata": {
        "colab": {
          "base_uri": "https://localhost:8080/"
        },
        "id": "PYDq7eiQNHCf",
        "outputId": "7bb7ed9a-0c6b-4404-b44e-5bb1b4afb0f9"
      },
      "execution_count": null,
      "outputs": [
        {
          "output_type": "stream",
          "name": "stdout",
          "text": [
            "被删除的特征列: set()\n"
          ]
        }
      ]
    },
    {
      "cell_type": "code",
      "source": [
        "scaler = MinMaxScaler()\n",
        "X_scaled = scaler.fit_transform(X_filled_df)\n",
        "\n",
        "print(\"标准化后的特征形状:\", X_scaled.shape)"
      ],
      "metadata": {
        "colab": {
          "base_uri": "https://localhost:8080/"
        },
        "id": "3LBQCBSpNVJx",
        "outputId": "e61c017a-ccdb-42a7-dbf9-2084e05e9801"
      },
      "execution_count": null,
      "outputs": [
        {
          "output_type": "stream",
          "name": "stdout",
          "text": [
            "标准化后的特征形状: (3372, 179)\n"
          ]
        }
      ]
    },
    {
      "cell_type": "code",
      "source": [
        "def create_time_series(X, y, time_steps):\n",
        "    X_series, y_series = [], []\n",
        "    for i in range(len(X) - time_steps):\n",
        "        X_series.append(X[i:i + time_steps])\n",
        "        y_series.append(y[i + time_steps])\n",
        "    return np.array(X_series), np.array(y_series)\n",
        "\n",
        "time_steps = 10\n",
        "X_series, y_series = create_time_series(X_scaled, y, time_steps)\n",
        "\n",
        "print(\"时间序列数据形状:\", X_series.shape, y_series.shape)"
      ],
      "metadata": {
        "colab": {
          "base_uri": "https://localhost:8080/"
        },
        "id": "Zd_lLWghNYV6",
        "outputId": "2cd126e3-dd3e-43a5-d971-869bdba8414c"
      },
      "execution_count": null,
      "outputs": [
        {
          "output_type": "stream",
          "name": "stdout",
          "text": [
            "时间序列数据形状: (3362, 10, 179) (3362,)\n"
          ]
        }
      ]
    },
    {
      "cell_type": "code",
      "source": [
        "from sklearn.model_selection import train_test_split\n",
        "\n",
        "X_train, X_test, y_train, y_test = train_test_split(X_series, y_series, test_size=0.2, random_state=42)\n",
        "\n",
        "print(\"训练集和测试集大小:\")\n",
        "print(\"X_train:\", X_train.shape, \"y_train:\", y_train.shape)\n",
        "print(\"X_test:\", X_test.shape, \"y_test:\", y_test.shape)"
      ],
      "metadata": {
        "colab": {
          "base_uri": "https://localhost:8080/"
        },
        "id": "ZegU71Q4Na7Q",
        "outputId": "47a6cf40-3621-482a-f405-6e612898351f"
      },
      "execution_count": null,
      "outputs": [
        {
          "output_type": "stream",
          "name": "stdout",
          "text": [
            "训练集和测试集大小:\n",
            "X_train: (2689, 10, 179) y_train: (2689,)\n",
            "X_test: (673, 10, 179) y_test: (673,)\n"
          ]
        }
      ]
    },
    {
      "cell_type": "code",
      "source": [
        "print(\"检查数据中是否存在 NaN 或 Inf：\")\n",
        "print(\"NaN in X_train:\", np.isnan(X_train).sum())\n",
        "print(\"Inf in X_train:\", np.isinf(X_train).sum())\n",
        "print(\"NaN in y_train:\", np.isnan(y_train).sum())\n",
        "print(\"Inf in y_train:\", np.isinf(y_train).sum())"
      ],
      "metadata": {
        "colab": {
          "base_uri": "https://localhost:8080/"
        },
        "id": "81zuabOcOMde",
        "outputId": "d4f60419-656e-4ef6-b071-6c75f5a2a720"
      },
      "execution_count": null,
      "outputs": [
        {
          "output_type": "stream",
          "name": "stdout",
          "text": [
            "检查数据中是否存在 NaN 或 Inf：\n",
            "NaN in X_train: 0\n",
            "Inf in X_train: 0\n",
            "NaN in y_train: 675\n",
            "Inf in y_train: 0\n"
          ]
        }
      ]
    },
    {
      "cell_type": "code",
      "source": [
        "pip install fancyimpute"
      ],
      "metadata": {
        "colab": {
          "base_uri": "https://localhost:8080/"
        },
        "id": "jxbPBjaQOUGC",
        "outputId": "d8af0937-f41e-4c65-baf9-a786f5b95ebf"
      },
      "execution_count": null,
      "outputs": [
        {
          "output_type": "stream",
          "name": "stdout",
          "text": [
            "Collecting fancyimpute\n",
            "  Downloading fancyimpute-0.7.0.tar.gz (25 kB)\n",
            "  Preparing metadata (setup.py) ... \u001b[?25l\u001b[?25hdone\n",
            "Collecting knnimpute>=0.1.0 (from fancyimpute)\n",
            "  Downloading knnimpute-0.1.0.tar.gz (8.3 kB)\n",
            "  Preparing metadata (setup.py) ... \u001b[?25l\u001b[?25hdone\n",
            "Requirement already satisfied: scikit-learn>=0.24.2 in /usr/local/lib/python3.10/dist-packages (from fancyimpute) (1.5.2)\n",
            "Requirement already satisfied: cvxpy in /usr/local/lib/python3.10/dist-packages (from fancyimpute) (1.5.4)\n",
            "Requirement already satisfied: cvxopt in /usr/local/lib/python3.10/dist-packages (from fancyimpute) (1.3.2)\n",
            "Requirement already satisfied: pytest in /usr/local/lib/python3.10/dist-packages (from fancyimpute) (8.3.4)\n",
            "Collecting nose (from fancyimpute)\n",
            "  Downloading nose-1.3.7-py3-none-any.whl.metadata (1.7 kB)\n",
            "Requirement already satisfied: six in /usr/local/lib/python3.10/dist-packages (from knnimpute>=0.1.0->fancyimpute) (1.17.0)\n",
            "Requirement already satisfied: numpy>=1.10 in /usr/local/lib/python3.10/dist-packages (from knnimpute>=0.1.0->fancyimpute) (1.26.4)\n",
            "Requirement already satisfied: scipy>=1.6.0 in /usr/local/lib/python3.10/dist-packages (from scikit-learn>=0.24.2->fancyimpute) (1.13.1)\n",
            "Requirement already satisfied: joblib>=1.2.0 in /usr/local/lib/python3.10/dist-packages (from scikit-learn>=0.24.2->fancyimpute) (1.4.2)\n",
            "Requirement already satisfied: threadpoolctl>=3.1.0 in /usr/local/lib/python3.10/dist-packages (from scikit-learn>=0.24.2->fancyimpute) (3.5.0)\n",
            "Requirement already satisfied: osqp>=0.6.2 in /usr/local/lib/python3.10/dist-packages (from cvxpy->fancyimpute) (0.6.7.post3)\n",
            "Requirement already satisfied: ecos>=2 in /usr/local/lib/python3.10/dist-packages (from cvxpy->fancyimpute) (2.0.14)\n",
            "Requirement already satisfied: clarabel>=0.5.0 in /usr/local/lib/python3.10/dist-packages (from cvxpy->fancyimpute) (0.9.0)\n",
            "Requirement already satisfied: scs>=3.2.4.post1 in /usr/local/lib/python3.10/dist-packages (from cvxpy->fancyimpute) (3.2.7)\n",
            "Requirement already satisfied: exceptiongroup>=1.0.0rc8 in /usr/local/lib/python3.10/dist-packages (from pytest->fancyimpute) (1.2.2)\n",
            "Requirement already satisfied: iniconfig in /usr/local/lib/python3.10/dist-packages (from pytest->fancyimpute) (2.0.0)\n",
            "Requirement already satisfied: packaging in /usr/local/lib/python3.10/dist-packages (from pytest->fancyimpute) (24.2)\n",
            "Requirement already satisfied: pluggy<2,>=1.5 in /usr/local/lib/python3.10/dist-packages (from pytest->fancyimpute) (1.5.0)\n",
            "Requirement already satisfied: tomli>=1 in /usr/local/lib/python3.10/dist-packages (from pytest->fancyimpute) (2.2.1)\n",
            "Requirement already satisfied: qdldl in /usr/local/lib/python3.10/dist-packages (from osqp>=0.6.2->cvxpy->fancyimpute) (0.1.7.post4)\n",
            "Downloading nose-1.3.7-py3-none-any.whl (154 kB)\n",
            "\u001b[2K   \u001b[90m━━━━━━━━━━━━━━━━━━━━━━━━━━━━━━━━━━━━━━━━\u001b[0m \u001b[32m154.7/154.7 kB\u001b[0m \u001b[31m4.1 MB/s\u001b[0m eta \u001b[36m0:00:00\u001b[0m\n",
            "\u001b[?25hBuilding wheels for collected packages: fancyimpute, knnimpute\n",
            "  Building wheel for fancyimpute (setup.py) ... \u001b[?25l\u001b[?25hdone\n",
            "  Created wheel for fancyimpute: filename=fancyimpute-0.7.0-py3-none-any.whl size=29879 sha256=b83deba3814691f9e2c6dac4236bf8f57839fd01aac9107c151b9d36ab095438\n",
            "  Stored in directory: /root/.cache/pip/wheels/7b/0c/d3/ee82d1fbdcc0858d96434af108608d01703505d453720c84ed\n",
            "  Building wheel for knnimpute (setup.py) ... \u001b[?25l\u001b[?25hdone\n",
            "  Created wheel for knnimpute: filename=knnimpute-0.1.0-py3-none-any.whl size=11329 sha256=f94624df781f6dc5f1001edda588ea34a34162128826a4fc5e4124b648694454\n",
            "  Stored in directory: /root/.cache/pip/wheels/46/06/a5/45a724630562413c374e29c08732411d496092408b3a7bf754\n",
            "Successfully built fancyimpute knnimpute\n",
            "Installing collected packages: nose, knnimpute, fancyimpute\n",
            "Successfully installed fancyimpute-0.7.0 knnimpute-0.1.0 nose-1.3.7\n"
          ]
        }
      ]
    },
    {
      "cell_type": "code",
      "source": [
        "from fancyimpute import KNN\n",
        "\n",
        "y_train = y_train.reshape(-1, 1)\n",
        "y_train = KNN(k=3).fit_transform(y_train).flatten()\n",
        "print(\"NaN in y_train after KNN filling:\", np.isnan(y_train).sum())"
      ],
      "metadata": {
        "colab": {
          "base_uri": "https://localhost:8080/"
        },
        "id": "RfiLVUrTOZK4",
        "outputId": "e54fdd09-ff25-4dec-fbf5-76dbd072c5d7"
      },
      "execution_count": null,
      "outputs": [
        {
          "output_type": "stream",
          "name": "stdout",
          "text": [
            "Imputing row 1/2689 with 0 missing, elapsed time: 0.801\n",
            "Imputing row 101/2689 with 0 missing, elapsed time: 0.802\n",
            "Imputing row 201/2689 with 0 missing, elapsed time: 0.802\n",
            "Imputing row 301/2689 with 0 missing, elapsed time: 0.803\n",
            "Imputing row 401/2689 with 0 missing, elapsed time: 0.804\n",
            "Imputing row 501/2689 with 0 missing, elapsed time: 0.804\n",
            "Imputing row 601/2689 with 1 missing, elapsed time: 0.808\n",
            "Imputing row 701/2689 with 0 missing, elapsed time: 0.810\n",
            "Imputing row 801/2689 with 0 missing, elapsed time: 0.811\n",
            "Imputing row 901/2689 with 1 missing, elapsed time: 0.812\n",
            "Imputing row 1001/2689 with 0 missing, elapsed time: 0.814\n",
            "Imputing row 1101/2689 with 0 missing, elapsed time: 0.815\n",
            "Imputing row 1201/2689 with 0 missing, elapsed time: 0.816\n",
            "Imputing row 1301/2689 with 0 missing, elapsed time: 0.818\n",
            "Imputing row 1401/2689 with 0 missing, elapsed time: 0.819\n",
            "Imputing row 1501/2689 with 0 missing, elapsed time: 0.820\n",
            "Imputing row 1601/2689 with 0 missing, elapsed time: 0.821\n",
            "Imputing row 1701/2689 with 0 missing, elapsed time: 0.823\n",
            "Imputing row 1801/2689 with 0 missing, elapsed time: 0.824\n",
            "Imputing row 1901/2689 with 1 missing, elapsed time: 0.826\n",
            "Imputing row 2001/2689 with 1 missing, elapsed time: 0.827\n",
            "Imputing row 2101/2689 with 0 missing, elapsed time: 0.828\n",
            "Imputing row 2201/2689 with 0 missing, elapsed time: 0.830\n",
            "Imputing row 2301/2689 with 0 missing, elapsed time: 0.831\n",
            "Imputing row 2401/2689 with 1 missing, elapsed time: 0.832\n",
            "Imputing row 2501/2689 with 0 missing, elapsed time: 0.834\n",
            "Imputing row 2601/2689 with 1 missing, elapsed time: 0.835\n",
            "[KNN] Warning: 675/2689 still missing after imputation, replacing with 0\n",
            "NaN in y_train after KNN filling: 0\n"
          ]
        }
      ]
    },
    {
      "cell_type": "code",
      "source": [
        "print(\"NaN in y_train after processing:\", np.isnan(y_train).sum())\n"
      ],
      "metadata": {
        "colab": {
          "base_uri": "https://localhost:8080/"
        },
        "id": "gyfKb4zuOeoC",
        "outputId": "adf2969c-1ffb-4844-ecf4-0412f344e43c"
      },
      "execution_count": null,
      "outputs": [
        {
          "output_type": "stream",
          "name": "stdout",
          "text": [
            "NaN in y_train after processing: 0\n"
          ]
        }
      ]
    },
    {
      "cell_type": "code",
      "source": [
        "import numpy as np\n",
        "\n",
        "print(\"NaN in y_test:\", np.isnan(y_test).sum())\n",
        "print(\"Inf in y_test:\", np.isinf(y_test).sum())\n",
        "\n",
        "y_test = np.nan_to_num(y_test, nan=np.nanmean(y_test))\n",
        "print(\"NaN in y_test after filling:\", np.isnan(y_test).sum())"
      ],
      "metadata": {
        "colab": {
          "base_uri": "https://localhost:8080/"
        },
        "id": "dRPjHM_BPrJx",
        "outputId": "2a32ad26-0802-4292-9bb8-e8545a3fbb29"
      },
      "execution_count": null,
      "outputs": [
        {
          "output_type": "stream",
          "name": "stdout",
          "text": [
            "NaN in y_test: 177\n",
            "Inf in y_test: 0\n",
            "NaN in y_test after filling: 0\n"
          ]
        }
      ]
    },
    {
      "cell_type": "code",
      "source": [
        "def augment_data(X, y, noise_factor=0.01):\n",
        "    noise = np.random.normal(0, noise_factor, X.shape)\n",
        "    X_noisy = X + noise\n",
        "    return np.concatenate([X, X_noisy]), np.concatenate([y, y])\n",
        "\n",
        "X_train_augmented, y_train_augmented = augment_data(X_train, y_train)"
      ],
      "metadata": {
        "id": "7WgXpe5bROwv"
      },
      "execution_count": null,
      "outputs": []
    },
    {
      "cell_type": "code",
      "source": [
        "from tensorflow.keras.regularizers import l2"
      ],
      "metadata": {
        "id": "jaIFziWmR25I"
      },
      "execution_count": null,
      "outputs": []
    },
    {
      "cell_type": "code",
      "source": [
        "from tensorflow.keras.callbacks import EarlyStopping\n",
        "\n",
        "model = Sequential([\n",
        "    LSTM(64, activation='relu', kernel_regularizer=l2(0.01), input_shape=(time_steps, X_train.shape[2])),\n",
        "    Dense(32, activation='relu', kernel_regularizer=l2(0.01)),\n",
        "    Dense(1)\n",
        "])\n",
        "\n",
        "model.compile(optimizer='adam', loss='mse', metrics=['mae'])\n",
        "\n",
        "early_stopping = EarlyStopping(monitor='val_loss', patience=10, restore_best_weights=True)\n",
        "\n",
        "history = model.fit(\n",
        "    X_train_augmented, y_train_augmented,\n",
        "    epochs=50,\n",
        "    batch_size=32,\n",
        "    validation_split=0.2,\n",
        "    callbacks=[early_stopping]\n",
        ")"
      ],
      "metadata": {
        "colab": {
          "base_uri": "https://localhost:8080/"
        },
        "id": "C65jbtzCRtWS",
        "outputId": "fb063b03-0377-4b6b-b825-a16adfbc74f3"
      },
      "execution_count": null,
      "outputs": [
        {
          "output_type": "stream",
          "name": "stderr",
          "text": [
            "/usr/local/lib/python3.10/dist-packages/keras/src/layers/rnn/rnn.py:204: UserWarning: Do not pass an `input_shape`/`input_dim` argument to a layer. When using Sequential models, prefer using an `Input(shape)` object as the first layer in the model instead.\n",
            "  super().__init__(**kwargs)\n"
          ]
        },
        {
          "output_type": "stream",
          "name": "stdout",
          "text": [
            "Epoch 1/50\n",
            "\u001b[1m135/135\u001b[0m \u001b[32m━━━━━━━━━━━━━━━━━━━━\u001b[0m\u001b[37m\u001b[0m \u001b[1m8s\u001b[0m 30ms/step - loss: 1.4985 - mae: 0.1382 - val_loss: 0.2050 - val_mae: 0.1154\n",
            "Epoch 2/50\n",
            "\u001b[1m135/135\u001b[0m \u001b[32m━━━━━━━━━━━━━━━━━━━━\u001b[0m\u001b[37m\u001b[0m \u001b[1m4s\u001b[0m 27ms/step - loss: 0.1834 - mae: 0.1286 - val_loss: 0.0866 - val_mae: 0.1078\n",
            "Epoch 3/50\n",
            "\u001b[1m135/135\u001b[0m \u001b[32m━━━━━━━━━━━━━━━━━━━━\u001b[0m\u001b[37m\u001b[0m \u001b[1m4s\u001b[0m 29ms/step - loss: 0.0951 - mae: 0.1124 - val_loss: 0.0756 - val_mae: 0.1087\n",
            "Epoch 4/50\n",
            "\u001b[1m135/135\u001b[0m \u001b[32m━━━━━━━━━━━━━━━━━━━━\u001b[0m\u001b[37m\u001b[0m \u001b[1m3s\u001b[0m 21ms/step - loss: 0.0937 - mae: 0.1233 - val_loss: 0.0652 - val_mae: 0.1100\n",
            "Epoch 5/50\n",
            "\u001b[1m135/135\u001b[0m \u001b[32m━━━━━━━━━━━━━━━━━━━━\u001b[0m\u001b[37m\u001b[0m \u001b[1m2s\u001b[0m 13ms/step - loss: 0.1003 - mae: 0.1251 - val_loss: 0.0600 - val_mae: 0.1112\n",
            "Epoch 6/50\n",
            "\u001b[1m135/135\u001b[0m \u001b[32m━━━━━━━━━━━━━━━━━━━━\u001b[0m\u001b[37m\u001b[0m \u001b[1m2s\u001b[0m 10ms/step - loss: 0.0658 - mae: 0.1096 - val_loss: 0.0486 - val_mae: 0.0959\n",
            "Epoch 7/50\n",
            "\u001b[1m135/135\u001b[0m \u001b[32m━━━━━━━━━━━━━━━━━━━━\u001b[0m\u001b[37m\u001b[0m \u001b[1m3s\u001b[0m 15ms/step - loss: 0.0535 - mae: 0.1022 - val_loss: 0.0757 - val_mae: 0.1118\n",
            "Epoch 8/50\n",
            "\u001b[1m135/135\u001b[0m \u001b[32m━━━━━━━━━━━━━━━━━━━━\u001b[0m\u001b[37m\u001b[0m \u001b[1m3s\u001b[0m 18ms/step - loss: 0.0670 - mae: 0.1093 - val_loss: 0.0501 - val_mae: 0.1155\n",
            "Epoch 9/50\n",
            "\u001b[1m135/135\u001b[0m \u001b[32m━━━━━━━━━━━━━━━━━━━━\u001b[0m\u001b[37m\u001b[0m \u001b[1m2s\u001b[0m 17ms/step - loss: 0.0577 - mae: 0.1074 - val_loss: 0.0511 - val_mae: 0.1177\n",
            "Epoch 10/50\n",
            "\u001b[1m135/135\u001b[0m \u001b[32m━━━━━━━━━━━━━━━━━━━━\u001b[0m\u001b[37m\u001b[0m \u001b[1m2s\u001b[0m 11ms/step - loss: 0.0631 - mae: 0.1118 - val_loss: 0.0541 - val_mae: 0.1066\n",
            "Epoch 11/50\n",
            "\u001b[1m135/135\u001b[0m \u001b[32m━━━━━━━━━━━━━━━━━━━━\u001b[0m\u001b[37m\u001b[0m \u001b[1m3s\u001b[0m 11ms/step - loss: 0.0531 - mae: 0.1032 - val_loss: 0.0498 - val_mae: 0.0996\n",
            "Epoch 12/50\n",
            "\u001b[1m135/135\u001b[0m \u001b[32m━━━━━━━━━━━━━━━━━━━━\u001b[0m\u001b[37m\u001b[0m \u001b[1m1s\u001b[0m 10ms/step - loss: 0.0536 - mae: 0.1017 - val_loss: 0.0530 - val_mae: 0.1097\n",
            "Epoch 13/50\n",
            "\u001b[1m135/135\u001b[0m \u001b[32m━━━━━━━━━━━━━━━━━━━━\u001b[0m\u001b[37m\u001b[0m \u001b[1m1s\u001b[0m 10ms/step - loss: 0.0580 - mae: 0.1100 - val_loss: 0.0384 - val_mae: 0.0922\n",
            "Epoch 14/50\n",
            "\u001b[1m135/135\u001b[0m \u001b[32m━━━━━━━━━━━━━━━━━━━━\u001b[0m\u001b[37m\u001b[0m \u001b[1m3s\u001b[0m 10ms/step - loss: 0.0463 - mae: 0.0982 - val_loss: 0.0384 - val_mae: 0.0980\n",
            "Epoch 15/50\n",
            "\u001b[1m135/135\u001b[0m \u001b[32m━━━━━━━━━━━━━━━━━━━━\u001b[0m\u001b[37m\u001b[0m \u001b[1m4s\u001b[0m 19ms/step - loss: 0.0407 - mae: 0.0937 - val_loss: 0.0393 - val_mae: 0.1001\n",
            "Epoch 16/50\n",
            "\u001b[1m135/135\u001b[0m \u001b[32m━━━━━━━━━━━━━━━━━━━━\u001b[0m\u001b[37m\u001b[0m \u001b[1m2s\u001b[0m 12ms/step - loss: 0.0487 - mae: 0.1036 - val_loss: 0.0402 - val_mae: 0.0911\n",
            "Epoch 17/50\n",
            "\u001b[1m135/135\u001b[0m \u001b[32m━━━━━━━━━━━━━━━━━━━━\u001b[0m\u001b[37m\u001b[0m \u001b[1m1s\u001b[0m 10ms/step - loss: 0.0460 - mae: 0.0945 - val_loss: 0.0441 - val_mae: 0.1110\n",
            "Epoch 18/50\n",
            "\u001b[1m135/135\u001b[0m \u001b[32m━━━━━━━━━━━━━━━━━━━━\u001b[0m\u001b[37m\u001b[0m \u001b[1m3s\u001b[0m 11ms/step - loss: 0.0414 - mae: 0.0973 - val_loss: 0.0445 - val_mae: 0.1080\n",
            "Epoch 19/50\n",
            "\u001b[1m135/135\u001b[0m \u001b[32m━━━━━━━━━━━━━━━━━━━━\u001b[0m\u001b[37m\u001b[0m \u001b[1m1s\u001b[0m 11ms/step - loss: 0.0450 - mae: 0.0957 - val_loss: 0.0387 - val_mae: 0.0935\n",
            "Epoch 20/50\n",
            "\u001b[1m135/135\u001b[0m \u001b[32m━━━━━━━━━━━━━━━━━━━━\u001b[0m\u001b[37m\u001b[0m \u001b[1m3s\u001b[0m 11ms/step - loss: 0.0429 - mae: 0.0938 - val_loss: 0.0383 - val_mae: 0.0908\n",
            "Epoch 21/50\n",
            "\u001b[1m135/135\u001b[0m \u001b[32m━━━━━━━━━━━━━━━━━━━━\u001b[0m\u001b[37m\u001b[0m \u001b[1m4s\u001b[0m 19ms/step - loss: 0.0443 - mae: 0.1032 - val_loss: 0.0373 - val_mae: 0.0954\n",
            "Epoch 22/50\n",
            "\u001b[1m135/135\u001b[0m \u001b[32m━━━━━━━━━━━━━━━━━━━━\u001b[0m\u001b[37m\u001b[0m \u001b[1m4s\u001b[0m 10ms/step - loss: 0.0415 - mae: 0.0986 - val_loss: 0.0355 - val_mae: 0.0911\n",
            "Epoch 23/50\n",
            "\u001b[1m135/135\u001b[0m \u001b[32m━━━━━━━━━━━━━━━━━━━━\u001b[0m\u001b[37m\u001b[0m \u001b[1m3s\u001b[0m 10ms/step - loss: 0.0333 - mae: 0.0870 - val_loss: 0.0405 - val_mae: 0.1014\n",
            "Epoch 24/50\n",
            "\u001b[1m135/135\u001b[0m \u001b[32m━━━━━━━━━━━━━━━━━━━━\u001b[0m\u001b[37m\u001b[0m \u001b[1m1s\u001b[0m 11ms/step - loss: 0.0409 - mae: 0.0939 - val_loss: 0.0345 - val_mae: 0.0885\n",
            "Epoch 25/50\n",
            "\u001b[1m135/135\u001b[0m \u001b[32m━━━━━━━━━━━━━━━━━━━━\u001b[0m\u001b[37m\u001b[0m \u001b[1m1s\u001b[0m 11ms/step - loss: 0.0403 - mae: 0.0922 - val_loss: 0.0367 - val_mae: 0.0926\n",
            "Epoch 26/50\n",
            "\u001b[1m135/135\u001b[0m \u001b[32m━━━━━━━━━━━━━━━━━━━━\u001b[0m\u001b[37m\u001b[0m \u001b[1m2s\u001b[0m 11ms/step - loss: 0.0382 - mae: 0.0946 - val_loss: 0.0337 - val_mae: 0.0845\n",
            "Epoch 27/50\n",
            "\u001b[1m135/135\u001b[0m \u001b[32m━━━━━━━━━━━━━━━━━━━━\u001b[0m\u001b[37m\u001b[0m \u001b[1m2s\u001b[0m 16ms/step - loss: 0.0399 - mae: 0.0930 - val_loss: 0.0347 - val_mae: 0.0850\n",
            "Epoch 28/50\n",
            "\u001b[1m135/135\u001b[0m \u001b[32m━━━━━━━━━━━━━━━━━━━━\u001b[0m\u001b[37m\u001b[0m \u001b[1m3s\u001b[0m 19ms/step - loss: 0.0383 - mae: 0.0927 - val_loss: 0.0385 - val_mae: 0.0929\n",
            "Epoch 29/50\n",
            "\u001b[1m135/135\u001b[0m \u001b[32m━━━━━━━━━━━━━━━━━━━━\u001b[0m\u001b[37m\u001b[0m \u001b[1m2s\u001b[0m 13ms/step - loss: 0.0363 - mae: 0.0911 - val_loss: 0.0305 - val_mae: 0.0832\n",
            "Epoch 30/50\n",
            "\u001b[1m135/135\u001b[0m \u001b[32m━━━━━━━━━━━━━━━━━━━━\u001b[0m\u001b[37m\u001b[0m \u001b[1m1s\u001b[0m 11ms/step - loss: 0.0387 - mae: 0.0937 - val_loss: 0.0366 - val_mae: 0.0914\n",
            "Epoch 31/50\n",
            "\u001b[1m135/135\u001b[0m \u001b[32m━━━━━━━━━━━━━━━━━━━━\u001b[0m\u001b[37m\u001b[0m \u001b[1m2s\u001b[0m 10ms/step - loss: 0.0353 - mae: 0.0917 - val_loss: 0.0309 - val_mae: 0.0828\n",
            "Epoch 32/50\n",
            "\u001b[1m135/135\u001b[0m \u001b[32m━━━━━━━━━━━━━━━━━━━━\u001b[0m\u001b[37m\u001b[0m \u001b[1m1s\u001b[0m 10ms/step - loss: 0.0349 - mae: 0.0878 - val_loss: 0.0361 - val_mae: 0.0928\n",
            "Epoch 33/50\n",
            "\u001b[1m135/135\u001b[0m \u001b[32m━━━━━━━━━━━━━━━━━━━━\u001b[0m\u001b[37m\u001b[0m \u001b[1m3s\u001b[0m 10ms/step - loss: 0.0341 - mae: 0.0918 - val_loss: 0.0306 - val_mae: 0.0831\n",
            "Epoch 34/50\n",
            "\u001b[1m135/135\u001b[0m \u001b[32m━━━━━━━━━━━━━━━━━━━━\u001b[0m\u001b[37m\u001b[0m \u001b[1m2s\u001b[0m 12ms/step - loss: 0.0350 - mae: 0.0891 - val_loss: 0.0341 - val_mae: 0.0845\n",
            "Epoch 35/50\n",
            "\u001b[1m135/135\u001b[0m \u001b[32m━━━━━━━━━━━━━━━━━━━━\u001b[0m\u001b[37m\u001b[0m \u001b[1m3s\u001b[0m 19ms/step - loss: 0.0366 - mae: 0.0915 - val_loss: 0.0321 - val_mae: 0.0898\n",
            "Epoch 36/50\n",
            "\u001b[1m135/135\u001b[0m \u001b[32m━━━━━━━━━━━━━━━━━━━━\u001b[0m\u001b[37m\u001b[0m \u001b[1m4s\u001b[0m 11ms/step - loss: 0.0362 - mae: 0.0949 - val_loss: 0.0350 - val_mae: 0.0899\n",
            "Epoch 37/50\n",
            "\u001b[1m135/135\u001b[0m \u001b[32m━━━━━━━━━━━━━━━━━━━━\u001b[0m\u001b[37m\u001b[0m \u001b[1m1s\u001b[0m 11ms/step - loss: 0.0323 - mae: 0.0853 - val_loss: 0.0309 - val_mae: 0.0880\n",
            "Epoch 38/50\n",
            "\u001b[1m135/135\u001b[0m \u001b[32m━━━━━━━━━━━━━━━━━━━━\u001b[0m\u001b[37m\u001b[0m \u001b[1m3s\u001b[0m 10ms/step - loss: 0.0416 - mae: 0.0972 - val_loss: 0.0304 - val_mae: 0.0920\n",
            "Epoch 39/50\n",
            "\u001b[1m135/135\u001b[0m \u001b[32m━━━━━━━━━━━━━━━━━━━━\u001b[0m\u001b[37m\u001b[0m \u001b[1m1s\u001b[0m 11ms/step - loss: 0.0353 - mae: 0.0949 - val_loss: 0.0302 - val_mae: 0.0825\n",
            "Epoch 40/50\n",
            "\u001b[1m135/135\u001b[0m \u001b[32m━━━━━━━━━━━━━━━━━━━━\u001b[0m\u001b[37m\u001b[0m \u001b[1m3s\u001b[0m 15ms/step - loss: 0.0317 - mae: 0.0854 - val_loss: 0.0333 - val_mae: 0.0929\n",
            "Epoch 41/50\n",
            "\u001b[1m135/135\u001b[0m \u001b[32m━━━━━━━━━━━━━━━━━━━━\u001b[0m\u001b[37m\u001b[0m \u001b[1m3s\u001b[0m 18ms/step - loss: 0.0292 - mae: 0.0840 - val_loss: 0.0290 - val_mae: 0.0862\n",
            "Epoch 42/50\n",
            "\u001b[1m135/135\u001b[0m \u001b[32m━━━━━━━━━━━━━━━━━━━━\u001b[0m\u001b[37m\u001b[0m \u001b[1m2s\u001b[0m 12ms/step - loss: 0.0298 - mae: 0.0864 - val_loss: 0.0366 - val_mae: 0.1114\n",
            "Epoch 43/50\n",
            "\u001b[1m135/135\u001b[0m \u001b[32m━━━━━━━━━━━━━━━━━━━━\u001b[0m\u001b[37m\u001b[0m \u001b[1m2s\u001b[0m 11ms/step - loss: 0.0399 - mae: 0.1021 - val_loss: 0.0391 - val_mae: 0.0993\n",
            "Epoch 44/50\n",
            "\u001b[1m135/135\u001b[0m \u001b[32m━━━━━━━━━━━━━━━━━━━━\u001b[0m\u001b[37m\u001b[0m \u001b[1m2s\u001b[0m 12ms/step - loss: 0.0353 - mae: 0.0907 - val_loss: 0.0292 - val_mae: 0.0815\n",
            "Epoch 45/50\n",
            "\u001b[1m135/135\u001b[0m \u001b[32m━━━━━━━━━━━━━━━━━━━━\u001b[0m\u001b[37m\u001b[0m \u001b[1m3s\u001b[0m 12ms/step - loss: 0.0289 - mae: 0.0846 - val_loss: 0.0335 - val_mae: 0.0915\n",
            "Epoch 46/50\n",
            "\u001b[1m135/135\u001b[0m \u001b[32m━━━━━━━━━━━━━━━━━━━━\u001b[0m\u001b[37m\u001b[0m \u001b[1m1s\u001b[0m 11ms/step - loss: 0.0390 - mae: 0.0952 - val_loss: 0.0344 - val_mae: 0.0889\n",
            "Epoch 47/50\n",
            "\u001b[1m135/135\u001b[0m \u001b[32m━━━━━━━━━━━━━━━━━━━━\u001b[0m\u001b[37m\u001b[0m \u001b[1m4s\u001b[0m 18ms/step - loss: 0.0292 - mae: 0.0843 - val_loss: 0.0316 - val_mae: 0.0821\n",
            "Epoch 48/50\n",
            "\u001b[1m135/135\u001b[0m \u001b[32m━━━━━━━━━━━━━━━━━━━━\u001b[0m\u001b[37m\u001b[0m \u001b[1m2s\u001b[0m 18ms/step - loss: 0.0365 - mae: 0.0909 - val_loss: 0.0335 - val_mae: 0.1002\n",
            "Epoch 49/50\n",
            "\u001b[1m135/135\u001b[0m \u001b[32m━━━━━━━━━━━━━━━━━━━━\u001b[0m\u001b[37m\u001b[0m \u001b[1m1s\u001b[0m 10ms/step - loss: 0.0311 - mae: 0.0884 - val_loss: 0.0348 - val_mae: 0.0921\n",
            "Epoch 50/50\n",
            "\u001b[1m135/135\u001b[0m \u001b[32m━━━━━━━━━━━━━━━━━━━━\u001b[0m\u001b[37m\u001b[0m \u001b[1m1s\u001b[0m 11ms/step - loss: 0.0287 - mae: 0.0853 - val_loss: 0.0280 - val_mae: 0.0830\n"
          ]
        }
      ]
    },
    {
      "cell_type": "code",
      "source": [
        "import matplotlib.pyplot as plt\n",
        "\n",
        "plt.figure(figsize=(10, 6))\n",
        "plt.plot(history.history['loss'], label='Training Loss')\n",
        "plt.plot(history.history['val_loss'], label='Validation Loss')\n",
        "plt.xlabel('Epochs')\n",
        "plt.ylabel('Loss (MSE)')\n",
        "plt.title('Training and Validation Loss')\n",
        "plt.legend()\n",
        "plt.show()"
      ],
      "metadata": {
        "colab": {
          "base_uri": "https://localhost:8080/",
          "height": 564
        },
        "id": "3atTdxkf8lqq",
        "outputId": "b0a0c9d6-d5b6-4656-8b3a-fabdff864292"
      },
      "execution_count": null,
      "outputs": [
        {
          "output_type": "display_data",
          "data": {
            "text/plain": [
              "<Figure size 1000x600 with 1 Axes>"
            ],
            "image/png": "[encoded data removed]"
          },
          "metadata": {}
        }
      ]
    },
    {
      "cell_type": "code",
      "source": [
        "import matplotlib.pyplot as plt\n",
        "\n",
        "plt.figure(figsize=(10, 6))\n",
        "plt.plot(history.history['loss'], label='Training Loss')\n",
        "plt.plot(history.history['val_loss'], label='Validation Loss')\n",
        "plt.xlabel('Epochs')\n",
        "plt.ylabel('Loss (MSE)')\n",
        "plt.title('Training and Validation Loss')\n",
        "plt.legend()\n",
        "plt.grid(True)\n",
        "plt.show()"
      ],
      "metadata": {
        "colab": {
          "base_uri": "https://localhost:8080/",
          "height": 564
        },
        "id": "foRXwVCeTneE",
        "outputId": "989244c7-1076-4b25-bbc0-53eaa7d320d3"
      },
      "execution_count": null,
      "outputs": [
        {
          "output_type": "display_data",
          "data": {
            "text/plain": [
              "<Figure size 1000x600 with 1 Axes>"
            ],
            "image/png": "[encoded data removed]"
          },
          "metadata": {}
        }
      ]
    },
    {
      "cell_type": "code",
      "source": [
        "y_pred = model.predict(X_test)\n",
        "\n",
        "from sklearn.metrics import mean_squared_error, mean_absolute_error\n",
        "\n",
        "mse = mean_squared_error(y_test, y_pred)\n",
        "mae = mean_absolute_error(y_test, y_pred)\n",
        "print(f\"测试集 MSE: {mse}, MAE: {mae}\")"
      ],
      "metadata": {
        "colab": {
          "base_uri": "https://localhost:8080/"
        },
        "id": "rLUU_z3n1Joy",
        "outputId": "f11bfb20-3ce7-453a-aae4-083250522b10"
      },
      "execution_count": null,
      "outputs": [
        {
          "output_type": "stream",
          "name": "stdout",
          "text": [
            "\u001b[1m22/22\u001b[0m \u001b[32m━━━━━━━━━━━━━━━━━━━━\u001b[0m\u001b[37m\u001b[0m \u001b[1m0s\u001b[0m 11ms/step\n",
            "测试集 MSE: 0.02922076848850319, MAE: 0.08692132448607297\n"
          ]
        }
      ]
    },
    {
      "cell_type": "code",
      "source": [
        "plt.figure(figsize=(8, 6))\n",
        "plt.scatter(y_test, y_pred)\n",
        "# Add a diagonal line\n",
        "diagonal = np.linspace(min(y_test.min(), y_pred.min()), max(y_test.max(), y_pred.max()), 100)\n",
        "plt.plot(diagonal, diagonal, color='red', linestyle='--', label='Perfect Prediction')\n",
        "plt.xlabel('Actual Values')\n",
        "plt.ylabel('Predicted Values')\n",
        "plt.title('LSTM:Actual vs Predicted Population Mobility Rate-Early stopped')\n",
        "plt.show()"
      ],
      "metadata": {
        "colab": {
          "base_uri": "https://localhost:8080/",
          "height": 564
        },
        "id": "fDsz2tcl2fNW",
        "outputId": "a23d9953-3172-4a2e-8bd6-0489a33af893"
      },
      "execution_count": null,
      "outputs": [
        {
          "output_type": "display_data",
          "data": {
            "text/plain": [
              "<Figure size 800x600 with 1 Axes>"
            ],
            "image/png": "[encoded data removed]"
          },
          "metadata": {}
        }
      ]
    }
  ]
}